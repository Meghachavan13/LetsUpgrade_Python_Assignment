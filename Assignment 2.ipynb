{
 "cells": [
  {
   "cell_type": "markdown",
   "metadata": {},
   "source": [
    "# Use IF ELSE and ELIF to write a program in python for your Report Cards"
   ]
  },
  {
   "cell_type": "code",
   "execution_count": 8,
   "metadata": {},
   "outputs": [
    {
     "name": "stdout",
     "output_type": "stream",
     "text": [
      "B\n"
     ]
    }
   ],
   "source": [
    "marks = 80\n",
    "\n",
    "if marks >= 90:\n",
    "  grade = 'A'\n",
    "elif marks >= 80:\n",
    "  grade = 'B'\n",
    "elif marks >= 70:\n",
    "  grade = 'C'\n",
    "elif marks >= 60:\n",
    "  grade = 'D'\n",
    "else:\n",
    "  grade = 'F'\n",
    "print(grade)\n"
   ]
  },
  {
   "cell_type": "markdown",
   "metadata": {},
   "source": [
    "# Write a program for printing the tables from 1,10 using Nested For Loop"
   ]
  },
  {
   "cell_type": "code",
   "execution_count": 19,
   "metadata": {
    "scrolled": true
   },
   "outputs": [
    {
     "name": "stdout",
     "output_type": "stream",
     "text": [
      "1  \n",
      "2  \n",
      "3  \n",
      "4  \n",
      "5  \n",
      "6  \n",
      "7  \n",
      "8  \n",
      "9  \n",
      "10  \n",
      "2  \n",
      "4  \n",
      "6  \n",
      "8  \n",
      "10  \n",
      "12  \n",
      "14  \n",
      "16  \n",
      "18  \n",
      "20  \n",
      "3  \n",
      "6  \n",
      "9  \n",
      "12  \n",
      "15  \n",
      "18  \n",
      "21  \n",
      "24  \n",
      "27  \n",
      "30  \n",
      "4  \n",
      "8  \n",
      "12  \n",
      "16  \n",
      "20  \n",
      "24  \n",
      "28  \n",
      "32  \n",
      "36  \n",
      "40  \n",
      "5  \n",
      "10  \n",
      "15  \n",
      "20  \n",
      "25  \n",
      "30  \n",
      "35  \n",
      "40  \n",
      "45  \n",
      "50  \n",
      "6  \n",
      "12  \n",
      "18  \n",
      "24  \n",
      "30  \n",
      "36  \n",
      "42  \n",
      "48  \n",
      "54  \n",
      "60  \n",
      "7  \n",
      "14  \n",
      "21  \n",
      "28  \n",
      "35  \n",
      "42  \n",
      "49  \n",
      "56  \n",
      "63  \n",
      "70  \n",
      "8  \n",
      "16  \n",
      "24  \n",
      "32  \n",
      "40  \n",
      "48  \n",
      "56  \n",
      "64  \n",
      "72  \n",
      "80  \n",
      "9  \n",
      "18  \n",
      "27  \n",
      "36  \n",
      "45  \n",
      "54  \n",
      "63  \n",
      "72  \n",
      "81  \n",
      "90  \n",
      "10  \n",
      "20  \n",
      "30  \n",
      "40  \n",
      "50  \n",
      "60  \n",
      "70  \n",
      "80  \n",
      "90  \n",
      "100  \n"
     ]
    }
   ],
   "source": [
    "for i in range(1,11):\n",
    "    for j in range(1,11):\n",
    "        print(i*j,\" \",end='')\n",
    "        print() "
   ]
  },
  {
   "cell_type": "markdown",
   "metadata": {},
   "source": [
    "# Use For Loop to Print Prime Numbers in between 1 to 1000"
   ]
  },
  {
   "cell_type": "code",
   "execution_count": 1,
   "metadata": {},
   "outputs": [
    {
     "name": "stdout",
     "output_type": "stream",
     "text": [
      " 2   3   5   7   11   13   17   19   23   29   31   37   41   43   47   53   59   61   67   71   73   79   83   89   97   101   103   107   109   113   127   131   137   139   149   151   157   163   167   173   179   181   191   193   197   199   211   223   227   229   233   239   241   251   257   263   269   271   277   281   283   293   307   311   313   317   331   337   347   349   353   359   367   373   379   383   389   397   401   409   419   421   431   433   439   443   449   457   461   463   467   479   487   491   499   503   509   521   523   541   547   557   563   569   571   577   587   593   599   601   607   613   617   619   631   641   643   647   653   659   661   673   677   683   691   701   709   719   727   733   739   743   751   757   761   769   773   787   797   809   811   821   823   827   829   839   853   857   859   863   877   881   883   887   907   911   919   929   937   941   947   953   967   971   977   983   991   997  "
     ]
    }
   ],
   "source": [
    "for Number in range (1, 1001):\n",
    "    count = 0\n",
    "    for i in range(2, (Number//2 + 1)):\n",
    "        if(Number % i == 0):\n",
    "            count = count + 1\n",
    "            break\n",
    "\n",
    "    if (count == 0 and Number != 1):\n",
    "        print(\" %d\" %Number, end = '  ')"
   ]
  },
  {
   "cell_type": "markdown",
   "metadata": {},
   "source": [
    "# Write a program to Print X Prime Numbers using While Loop starting from 0, and take the INput of X from the user"
   ]
  },
  {
   "cell_type": "code",
   "execution_count": 3,
   "metadata": {},
   "outputs": [
    {
     "name": "stdout",
     "output_type": "stream",
     "text": [
      "enter the starting range:0\n",
      "enter the end range:20\n",
      "prime nos in the range 0 to 20\n",
      "01235711131719"
     ]
    }
   ],
   "source": [
    "start = int(input(\"enter the starting range:\"))\n",
    "end = int(input(\"enter the end range:\"))\n",
    "print(\"prime nos in the range\", start, \"to\", end)\n",
    "for i in range(start, end+1):\n",
    "    flag = 0\n",
    "    for j in range(2,i):\n",
    "        if(i % j == 0):\n",
    "            flag = 1\n",
    "            break\n",
    "    if (flag == 0):\n",
    "        print(i, end = '')"
   ]
  },
  {
   "cell_type": "code",
   "execution_count": null,
   "metadata": {},
   "outputs": [],
   "source": []
  }
 ],
 "metadata": {
  "kernelspec": {
   "display_name": "Python 3",
   "language": "python",
   "name": "python3"
  },
  "language_info": {
   "codemirror_mode": {
    "name": "ipython",
    "version": 3
   },
   "file_extension": ".py",
   "mimetype": "text/x-python",
   "name": "python",
   "nbconvert_exporter": "python",
   "pygments_lexer": "ipython3",
   "version": "3.8.5"
  }
 },
 "nbformat": 4,
 "nbformat_minor": 4
}
